{
 "cells": [
  {
   "cell_type": "markdown",
   "metadata": {
    "id": "jkxRSYjzA1oX"
   },
   "source": [
    "##### Copyright 2025 Google LLC."
   ]
  },
  {
   "cell_type": "code",
   "execution_count": null,
   "metadata": {
    "cellView": "form",
    "execution": {
     "iopub.execute_input": "2025-03-31T10:03:40.865454Z",
     "iopub.status.busy": "2025-03-31T10:03:40.865029Z",
     "iopub.status.idle": "2025-03-31T10:03:40.871949Z",
     "shell.execute_reply": "2025-03-31T10:03:40.870628Z",
     "shell.execute_reply.started": "2025-03-31T10:03:40.865391Z"
    },
    "id": "5u5OZ2ShA3BA",
    "jupyter": {
     "source_hidden": true
    }
   },
   "outputs": [],
   "source": [
    "# @title Licensed under the Apache License, Version 2.0 (the \"License\");\n",
    "# you may not use this file except in compliance with the License.\n",
    "# You may obtain a copy of the License at\n",
    "#\n",
    "# https://www.apache.org/licenses/LICENSE-2.0\n",
    "#\n",
    "# Unless required by applicable law or agreed to in writing, software\n",
    "# distributed under the License is distributed on an \"AS IS\" BASIS,\n",
    "# WITHOUT WARRANTIES OR CONDITIONS OF ANY KIND, either express or implied.\n",
    "# See the License for the specific language governing permissions and\n",
    "# limitations under the License."
   ]
  },
  {
   "cell_type": "markdown",
   "metadata": {
    "id": "csNPnkuCobmG"
   },
   "source": [
    "# Day 1 - Prompting\n",
    "\n",
    "Welcome to the Kaggle 5-day Generative AI course!\n",
    "\n",
    "This notebook will show you how to get started with the Gemini API and walk you through some of the example prompts and techniques that you can also read about in the Prompting whitepaper. You don't need to read the whitepaper to use this notebook, but the papers will give you some theoretical context and background to complement this interactive notebook.\n",
    "\n",
    "\n",
    "## Before you begin\n",
    "\n",
    "In this notebook, you'll start exploring prompting using the Python SDK and AI Studio. For some inspiration, you might enjoy exploring some apps that have been built using the Gemini family of models. Here are a few that we like, and we think you will too.\n",
    "\n",
    "* [TextFX](https://textfx.withgoogle.com/) is a suite of AI-powered tools for rappers, made in collaboration with Lupe Fiasco,\n",
    "* [SQL Talk](https://sql-talk-r5gdynozbq-uc.a.run.app/) shows how you can talk directly to a database using the Gemini API,\n",
    "* [NotebookLM](https://notebooklm.google/) uses Gemini models to build your own personal AI research assistant.\n",
    "\n",
    "\n",
    "## For help\n",
    "\n",
    "**Common issues are covered in the [FAQ and troubleshooting guide](https://www.kaggle.com/code/markishere/day-0-troubleshooting-and-faqs).**\n",
    "\n",
    "## New for Gemini 2.0!\n",
    "\n",
    "This course material was first launched in November 2024. The AI and LLM space is moving incredibly fast, so we have made some updates to use the latest models and capabilities.\n",
    "\n",
    "* These codelabs have been updated to use the Gemini 2.0 family of models.\n",
    "* The Python SDK has been updated from `google-generativeai` to the new, unified [`google-genai`](https://pypi.org/project/google-genai) SDK.\n",
    "  * This new SDK works with both the developer Gemini API as well as Google Cloud Vertex AI, and switching is [as simple as changing some fields](https://pypi.org/project/google-genai/#:~:text=.Client%28%29-,API%20Selection,-By%20default%2C%20the).\n",
    "* New model capabilities have been added to the relevant codelabs, such as \"thinking mode\" in this lab.\n",
    "* Day 1 includes a new [Evaluation codelab](https://www.kaggle.com/code/markishere/day-1-evaluation-and-structured-output)."
   ]
  },
  {
   "cell_type": "markdown",
   "metadata": {
    "id": "f00ea7c99e44"
   },
   "source": [
    "## Get started with Kaggle notebooks\n",
    "\n",
    "If this is your first time using a Kaggle notebook, welcome! You can read about how to use Kaggle notebooks [in the docs](https://www.kaggle.com/docs/notebooks).\n",
    "\n",
    "First, you will need to phone verify your account at kaggle.com/settings.\n",
    "\n",
    "![](https://storage.googleapis.com/kaggle-media/Images/5dgai_0.png)"
   ]
  },
  {
   "cell_type": "markdown",
   "metadata": {
    "id": "0xMSrtZxEBdX"
   },
   "source": [
    "To run this notebook, as well as the others in this course, you will need to make a copy, or fork, the notebook. Look for the `Copy and Edit` button in the top-right, and **click it** to make an editable, private copy of the notebook. It should look like this one:\n",
    "\n",
    "![Copy and Edit button](https://storage.googleapis.com/kaggle-media/Images/5gdai_sc_1.png)\n",
    "\n",
    "Your copy will now have a ▶️ **Run** button next to each code cell that you can press to execute that cell. These notebooks are expected to be run in order from top-to-bottom, but you are encouraged to add new cells, run your own code and explore. If you get stuck, you can try the `Factory reset` option in the `Run` menu, or head back to the original notebook and make a fresh copy.\n",
    "\n",
    "![Run cell button](https://storage.googleapis.com/kaggle-media/Images/5gdai_sc_2.png)\n",
    "\n",
    "### Problems?\n",
    "\n",
    "If you have any problems, head over to the [Kaggle Discord](https://discord.com/invite/kaggle), find the [`#5dgai-q-and-a` channel](https://discord.com/channels/1101210829807956100/1303438695143178251) and ask for help."
   ]
  },
  {
   "cell_type": "markdown",
   "metadata": {
    "id": "ExkOXcPxtTb5"
   },
   "source": [
    "## Get started with the Gemini API\n",
    "\n",
    "All of the exercises in this notebook will use the [Gemini API](https://ai.google.dev/gemini-api/) by way of the [Python SDK](https://pypi.org/project/google-genai/). Each of these prompts can be accessed directly in [Google AI Studio](https://aistudio.google.com/) too, so if you would rather use a web interface and skip the code for this activity, look for the <img src=\"https://ai.google.dev/site-assets/images/marketing/home/icon-ais.png\" style=\"height: 24px\" height=24/> AI Studio link on each prompt."
   ]
  },
  {
   "cell_type": "markdown",
   "metadata": {
    "id": "CBKQJYv5EBdY"
   },
   "source": [
    "Next, you will need to add your API key to your Kaggle Notebook as a Kaggle User Secret.\n",
    "\n",
    "![](https://storage.googleapis.com/kaggle-media/Images/5dgai_1.png)\n",
    "![](https://storage.googleapis.com/kaggle-media/Images/5dgai_2.png)\n",
    "![](https://storage.googleapis.com/kaggle-media/Images/5dgai_3.png)\n",
    "![](https://storage.googleapis.com/kaggle-media/Images/5dgai_4.png)"
   ]
  },
  {
   "cell_type": "markdown",
   "metadata": {
    "id": "UAjUV3BsvFXQ"
   },
   "source": [
    "### Install the SDK"
   ]
  },
  {
   "cell_type": "code",
   "execution_count": null,
   "metadata": {
    "colab": {
     "base_uri": "https://localhost:8080/"
    },
    "execution": {
     "iopub.execute_input": "2025-03-31T20:48:37.639983Z",
     "iopub.status.busy": "2025-03-31T20:48:37.639703Z",
     "iopub.status.idle": "2025-03-31T20:48:58.458016Z",
     "shell.execute_reply": "2025-03-31T20:48:58.456276Z",
     "shell.execute_reply.started": "2025-03-31T20:48:37.639950Z"
    },
    "id": "NzwzJFU9LqkJ",
    "outputId": "99e327a7-996c-43c2-cf46-9246389b769a"
   },
   "outputs": [
    {
     "name": "stdout",
     "output_type": "stream",
     "text": [
      "\u001b[33mWARNING: Skipping jupyterlab as it is not installed.\u001b[0m\u001b[33m\n",
      "\u001b[2K   \u001b[90m━━━━━━━━━━━━━━━━━━━━━━━━━━━━━━━━━━━━━━━━\u001b[0m \u001b[32m144.7/144.7 kB\u001b[0m \u001b[31m5.4 MB/s\u001b[0m eta \u001b[36m0:00:00\u001b[0m\n",
      "\u001b[?25h"
     ]
    }
   ],
   "source": [
    "!pip uninstall -qqy jupyterlab  # Remove unused packages from Kaggle's base image that conflict\n",
    "!pip install -U -q \"google-genai==1.7.0\""
   ]
  },
  {
   "cell_type": "markdown",
   "metadata": {
    "id": "o17rncErEBda"
   },
   "source": [
    "Import the SDK and some helpers for rendering the output."
   ]
  },
  {
   "cell_type": "code",
   "execution_count": null,
   "metadata": {
    "execution": {
     "iopub.execute_input": "2025-03-31T20:51:03.721523Z",
     "iopub.status.busy": "2025-03-31T20:51:03.720253Z",
     "iopub.status.idle": "2025-03-31T20:51:03.726841Z",
     "shell.execute_reply": "2025-03-31T20:51:03.725497Z",
     "shell.execute_reply.started": "2025-03-31T20:51:03.721469Z"
    },
    "id": "5DwxYIRavMST"
   },
   "outputs": [],
   "source": [
    "from google import genai\n",
    "from google.genai import types\n",
    "\n",
    "from IPython.display import HTML, Markdown, display"
   ]
  },
  {
   "cell_type": "markdown",
   "metadata": {
    "id": "xxpi0ojWEBda"
   },
   "source": [
    "Set up a retry helper. This allows you to \"Run all\" without worrying about per-minute quota."
   ]
  },
  {
   "cell_type": "code",
   "execution_count": null,
   "metadata": {
    "execution": {
     "iopub.execute_input": "2025-03-31T20:51:03.729769Z",
     "iopub.status.busy": "2025-03-31T20:51:03.729289Z",
     "iopub.status.idle": "2025-03-31T20:51:03.743228Z",
     "shell.execute_reply": "2025-03-31T20:51:03.742040Z",
     "shell.execute_reply.started": "2025-03-31T20:51:03.729721Z"
    },
    "id": "qaET004oEBda"
   },
   "outputs": [],
   "source": [
    "from google.api_core import retry\n",
    "\n",
    "\n",
    "is_retriable = lambda e: (isinstance(e, genai.errors.APIError) and e.code in {429, 503})\n",
    "\n",
    "genai.models.Models.generate_content = retry.Retry(\n",
    "    predicate=is_retriable)(genai.models.Models.generate_content)"
   ]
  },
  {
   "cell_type": "markdown",
   "metadata": {
    "id": "DNEt2BCOvOJ1"
   },
   "source": [
    "### Set up your API key\n",
    "\n",
    "To run the following cell, your API key must be stored it in a [Kaggle secret](https://www.kaggle.com/discussions/product-feedback/114053) named `GOOGLE_API_KEY`.\n",
    "\n",
    "If you don't already have an API key, you can grab one from [AI Studio](https://aistudio.google.com/app/apikey). You can find [detailed instructions in the docs](https://ai.google.dev/gemini-api/docs/api-key).\n",
    "\n",
    "To make the key available through Kaggle secrets, choose `Secrets` from the `Add-ons` menu and follow the instructions to add your key or enable it for this notebook."
   ]
  },
  {
   "cell_type": "code",
   "execution_count": null,
   "metadata": {
    "execution": {
     "iopub.execute_input": "2025-03-31T20:51:03.745262Z",
     "iopub.status.busy": "2025-03-31T20:51:03.744875Z",
     "iopub.status.idle": "2025-03-31T20:51:03.898081Z",
     "shell.execute_reply": "2025-03-31T20:51:03.896618Z",
     "shell.execute_reply.started": "2025-03-31T20:51:03.745231Z"
    },
    "id": "SHl0bkPCvayd"
   },
   "outputs": [],
   "source": [
    "#from kaggle_secrets import UserSecretsClient\n",
    "\n",
    "#GOOGLE_API_KEY = UserSecretsClient().get_secret(\"GOOGLE_API_KEY\")\n",
    "GOOGLE_API_KEY=''"
   ]
  },
  {
   "cell_type": "markdown",
   "metadata": {
    "id": "4e720472fd86"
   },
   "source": [
    "If you received an error response along the lines of `No user secrets exist for kernel id ...`, then you need to add your API key via `Add-ons`, `Secrets` **and** enable it.\n",
    "\n",
    "![Screenshot of the checkbox to enable GOOGLE_API_KEY secret](https://storage.googleapis.com/kaggle-media/Images/5gdai_sc_3.png)"
   ]
  },
  {
   "cell_type": "markdown",
   "metadata": {
    "id": "H_YXCYIKvyZJ"
   },
   "source": [
    "### Run your first prompt\n",
    "\n",
    "In this step, you will test that your API key is set up correctly by making a request.\n",
    "\n",
    "The Python SDK uses a [`Client` object](https://googleapis.github.io/python-genai/genai.html#genai.client.Client) to make requests to the API. The client lets you control which back-end to use (between the Gemini API and Vertex AI) and handles authentication (the API key).\n",
    "\n",
    "The `gemini-2.0-flash` model has been selected here.\n",
    "\n",
    "**Note**: If you see a `TransportError` on this step, you may need to **🔁 Factory reset** the notebook one time."
   ]
  },
  {
   "cell_type": "code",
   "execution_count": null,
   "metadata": {
    "colab": {
     "base_uri": "https://localhost:8080/"
    },
    "execution": {
     "iopub.execute_input": "2025-03-31T20:51:03.899978Z",
     "iopub.status.busy": "2025-03-31T20:51:03.899639Z",
     "iopub.status.idle": "2025-03-31T20:51:06.528096Z",
     "shell.execute_reply": "2025-03-31T20:51:06.526535Z",
     "shell.execute_reply.started": "2025-03-31T20:51:03.899946Z"
    },
    "id": "BV1o0PmcvyJF",
    "outputId": "89f82289-fb82-4fca-dece-f90106c41b5b"
   },
   "outputs": [
    {
     "name": "stdout",
     "output_type": "stream",
     "text": [
      "Imagine you have a really, REALLY smart puppy named Sparky. Sparky can learn to do tricks!\n",
      "\n",
      "First, you show Sparky what you want him to do, like \"Sit.\"  You say \"Sit!\" and push his bum gently until he sits. Then you give him a treat!\n",
      "\n",
      "AI is like Sparky, but instead of a puppy, it's a computer program.  Instead of treats, we give it lots of information.  So we show it lots of pictures of cats and tell it \"CAT!\" over and over.  And we show it lots of pictures of dogs and tell it \"DOG!\"\n",
      "\n",
      "After seeing tons and tons of pictures, the AI, like Sparky, learns to recognize the difference between cats and dogs!  If you show it a new picture of a fluffy cat, it can guess \"CAT!\" pretty accurately.\n",
      "\n",
      "So, AI is a computer program that can learn from information and do smart things, like recognizing pictures, answering questions, or even playing games, just like your smart puppy Sparky! It's like magic, but it's all thanks to computers and lots of information!\n",
      "\n"
     ]
    }
   ],
   "source": [
    "client = genai.Client(api_key=GOOGLE_API_KEY)\n",
    "\n",
    "response = client.models.generate_content(\n",
    "    model=\"gemini-2.0-flash\",\n",
    "    contents=\"Explain AI to me like I'm a kid.\")\n",
    "\n",
    "print(response.text)"
   ]
  },
  {
   "cell_type": "markdown",
   "metadata": {
    "id": "f60ed9d8ae41"
   },
   "source": [
    "The response often comes back in markdown format, which you can render directly in this notebook."
   ]
  },
  {
   "cell_type": "code",
   "execution_count": null,
   "metadata": {
    "colab": {
     "base_uri": "https://localhost:8080/",
     "height": 192
    },
    "execution": {
     "iopub.execute_input": "2025-03-31T20:51:06.531134Z",
     "iopub.status.busy": "2025-03-31T20:51:06.530775Z",
     "iopub.status.idle": "2025-03-31T20:51:06.540887Z",
     "shell.execute_reply": "2025-03-31T20:51:06.539274Z",
     "shell.execute_reply.started": "2025-03-31T20:51:06.531101Z"
    },
    "id": "c933e5e460a5",
    "outputId": "0ef50dbe-1b8e-4e7d-d373-fdd61e0449d9"
   },
   "outputs": [
    {
     "data": {
      "text/markdown": [
       "Imagine you have a really, REALLY smart puppy named Sparky. Sparky can learn to do tricks!\n",
       "\n",
       "First, you show Sparky what you want him to do, like \"Sit.\"  You say \"Sit!\" and push his bum gently until he sits. Then you give him a treat!\n",
       "\n",
       "AI is like Sparky, but instead of a puppy, it's a computer program.  Instead of treats, we give it lots of information.  So we show it lots of pictures of cats and tell it \"CAT!\" over and over.  And we show it lots of pictures of dogs and tell it \"DOG!\"\n",
       "\n",
       "After seeing tons and tons of pictures, the AI, like Sparky, learns to recognize the difference between cats and dogs!  If you show it a new picture of a fluffy cat, it can guess \"CAT!\" pretty accurately.\n",
       "\n",
       "So, AI is a computer program that can learn from information and do smart things, like recognizing pictures, answering questions, or even playing games, just like your smart puppy Sparky! It's like magic, but it's all thanks to computers and lots of information!\n"
      ],
      "text/plain": [
       "<IPython.core.display.Markdown object>"
      ]
     },
     "execution_count": 7,
     "metadata": {},
     "output_type": "execute_result"
    }
   ],
   "source": [
    "Markdown(response.text)"
   ]
  },
  {
   "cell_type": "markdown",
   "metadata": {
    "id": "byx0pT9ZMW2Q"
   },
   "source": [
    "### Start a chat\n",
    "\n",
    "The previous example uses a single-turn, text-in/text-out structure, but you can also set up a multi-turn chat structure too."
   ]
  },
  {
   "cell_type": "code",
   "execution_count": null,
   "metadata": {
    "colab": {
     "base_uri": "https://localhost:8080/"
    },
    "execution": {
     "iopub.execute_input": "2025-03-31T20:51:06.543268Z",
     "iopub.status.busy": "2025-03-31T20:51:06.542777Z",
     "iopub.status.idle": "2025-03-31T20:51:07.341938Z",
     "shell.execute_reply": "2025-03-31T20:51:07.340559Z",
     "shell.execute_reply.started": "2025-03-31T20:51:06.543228Z"
    },
    "id": "lV_S5ZL5MidD",
    "outputId": "a2030a70-7e12-4d5b-9153-b3959db28c32"
   },
   "outputs": [
    {
     "name": "stdout",
     "output_type": "stream",
     "text": [
      "Hello Zlork! It's nice to meet you. How can I help you today?\n",
      "\n"
     ]
    }
   ],
   "source": [
    "chat = client.chats.create(model='gemini-2.0-flash', history=[])\n",
    "response = chat.send_message('Hello! My name is Zlork.')\n",
    "print(response.text)"
   ]
  },
  {
   "cell_type": "code",
   "execution_count": null,
   "metadata": {
    "colab": {
     "base_uri": "https://localhost:8080/"
    },
    "execution": {
     "iopub.execute_input": "2025-03-31T20:51:07.344103Z",
     "iopub.status.busy": "2025-03-31T20:51:07.343768Z",
     "iopub.status.idle": "2025-03-31T20:51:08.525550Z",
     "shell.execute_reply": "2025-03-31T20:51:08.524397Z",
     "shell.execute_reply.started": "2025-03-31T20:51:07.344071Z"
    },
    "id": "7b0372c3c64a",
    "outputId": "40c7738c-0031-4d2f-be56-8462a929355d"
   },
   "outputs": [
    {
     "name": "stdout",
     "output_type": "stream",
     "text": [
      "Alright Zlork, here's an interesting fact about dinosaurs:\n",
      "\n",
      "**While we often think of dinosaurs as scaly reptiles, evidence suggests that many, if not most, dinosaurs actually had feathers!**\n",
      "\n",
      "This isn't just limited to the small, bird-like dinosaurs. Fossils have been found showing feathers on larger theropods (the group that includes T. rex) as well. These feathers likely weren't for flight in all cases, but served purposes like insulation, display, and even camouflage.\n",
      "\n",
      "So, when you picture a dinosaur, maybe imagine it with a bit more fluff and color than you might have initially thought!\n",
      "\n"
     ]
    }
   ],
   "source": [
    "response = chat.send_message('Can you tell me something interesting about dinosaurs?')\n",
    "print(response.text)"
   ]
  },
  {
   "cell_type": "markdown",
   "metadata": {
    "id": "6QeUECU8EBdc"
   },
   "source": [
    "While you have the `chat` object alive, the conversation state\n",
    "persists. Confirm that by asking if it knows the user's name."
   ]
  },
  {
   "cell_type": "code",
   "execution_count": null,
   "metadata": {
    "colab": {
     "base_uri": "https://localhost:8080/"
    },
    "execution": {
     "iopub.execute_input": "2025-03-31T20:51:08.527468Z",
     "iopub.status.busy": "2025-03-31T20:51:08.527139Z",
     "iopub.status.idle": "2025-03-31T20:51:09.111350Z",
     "shell.execute_reply": "2025-03-31T20:51:09.109944Z",
     "shell.execute_reply.started": "2025-03-31T20:51:08.527405Z"
    },
    "id": "d3f9591392a7",
    "outputId": "056ddb6c-091b-43ea-eca1-022834048985"
   },
   "outputs": [
    {
     "name": "stdout",
     "output_type": "stream",
     "text": [
      "Yes, Zlork, I remember your name.\n",
      "\n"
     ]
    }
   ],
   "source": [
    "response = chat.send_message('Do you remember what my name is?')\n",
    "print(response.text)"
   ]
  },
  {
   "cell_type": "markdown",
   "metadata": {
    "id": "2KAjpr1200sW"
   },
   "source": [
    "### Choose a model\n",
    "\n",
    "The Gemini API provides access to a number of models from the Gemini model family. Read about the available models and their capabilities on the [model overview page](https://ai.google.dev/gemini-api/docs/models/gemini).\n",
    "\n",
    "In this step you'll use the API to list all of the available models."
   ]
  },
  {
   "cell_type": "code",
   "execution_count": null,
   "metadata": {
    "colab": {
     "base_uri": "https://localhost:8080/"
    },
    "execution": {
     "iopub.execute_input": "2025-03-31T20:51:09.113930Z",
     "iopub.status.busy": "2025-03-31T20:51:09.113359Z",
     "iopub.status.idle": "2025-03-31T20:51:09.240379Z",
     "shell.execute_reply": "2025-03-31T20:51:09.239233Z",
     "shell.execute_reply.started": "2025-03-31T20:51:09.113876Z"
    },
    "id": "uUUZa2uq2jDm",
    "outputId": "4d1b733f-f49f-48e3-ab24-8a0a71e875c3"
   },
   "outputs": [
    {
     "name": "stdout",
     "output_type": "stream",
     "text": [
      "models/chat-bison-001\n",
      "models/text-bison-001\n",
      "models/embedding-gecko-001\n",
      "models/gemini-1.0-pro-vision-latest\n",
      "models/gemini-pro-vision\n",
      "models/gemini-1.5-pro-latest\n",
      "models/gemini-1.5-pro-001\n",
      "models/gemini-1.5-pro-002\n",
      "models/gemini-1.5-pro\n",
      "models/gemini-1.5-flash-latest\n",
      "models/gemini-1.5-flash-001\n",
      "models/gemini-1.5-flash-001-tuning\n",
      "models/gemini-1.5-flash\n",
      "models/gemini-1.5-flash-002\n",
      "models/gemini-1.5-flash-8b\n",
      "models/gemini-1.5-flash-8b-001\n",
      "models/gemini-1.5-flash-8b-latest\n",
      "models/gemini-1.5-flash-8b-exp-0827\n",
      "models/gemini-1.5-flash-8b-exp-0924\n",
      "models/gemini-2.5-pro-exp-03-25\n",
      "models/gemini-2.0-flash-exp\n",
      "models/gemini-2.0-flash\n",
      "models/gemini-2.0-flash-001\n",
      "models/gemini-2.0-flash-exp-image-generation\n",
      "models/gemini-2.0-flash-lite-001\n",
      "models/gemini-2.0-flash-lite\n",
      "models/gemini-2.0-flash-lite-preview-02-05\n",
      "models/gemini-2.0-flash-lite-preview\n",
      "models/gemini-2.0-pro-exp\n",
      "models/gemini-2.0-pro-exp-02-05\n",
      "models/gemini-exp-1206\n",
      "models/gemini-2.0-flash-thinking-exp-01-21\n",
      "models/gemini-2.0-flash-thinking-exp\n",
      "models/gemini-2.0-flash-thinking-exp-1219\n",
      "models/learnlm-1.5-pro-experimental\n",
      "models/gemma-3-27b-it\n",
      "models/embedding-001\n",
      "models/text-embedding-004\n",
      "models/gemini-embedding-exp-03-07\n",
      "models/gemini-embedding-exp\n",
      "models/aqa\n",
      "models/imagen-3.0-generate-002\n"
     ]
    }
   ],
   "source": [
    "for model in client.models.list():\n",
    "  print(model.name)"
   ]
  },
  {
   "cell_type": "markdown",
   "metadata": {
    "id": "rN49kSI54R1v"
   },
   "source": [
    "The [`models.list`](https://ai.google.dev/api/models#method:-models.list) response also returns additional information about the model's capabilities, like the token limits and supported parameters."
   ]
  },
  {
   "cell_type": "code",
   "execution_count": null,
   "metadata": {
    "colab": {
     "base_uri": "https://localhost:8080/"
    },
    "execution": {
     "iopub.execute_input": "2025-03-31T20:51:09.242491Z",
     "iopub.status.busy": "2025-03-31T20:51:09.242002Z",
     "iopub.status.idle": "2025-03-31T20:51:09.441287Z",
     "shell.execute_reply": "2025-03-31T20:51:09.439876Z",
     "shell.execute_reply.started": "2025-03-31T20:51:09.242420Z"
    },
    "id": "k7JJ1K6j4Rl8",
    "outputId": "221b9051-1d16-4de4-8244-dec83db27fdf"
   },
   "outputs": [
    {
     "name": "stdout",
     "output_type": "stream",
     "text": [
      "{'description': 'Gemini 2.0 Flash',\n",
      " 'display_name': 'Gemini 2.0 Flash',\n",
      " 'input_token_limit': 1048576,\n",
      " 'name': 'models/gemini-2.0-flash',\n",
      " 'output_token_limit': 8192,\n",
      " 'supported_actions': ['generateContent', 'countTokens'],\n",
      " 'tuned_model_info': {},\n",
      " 'version': '2.0'}\n"
     ]
    }
   ],
   "source": [
    "from pprint import pprint\n",
    "\n",
    "for model in client.models.list():\n",
    "  if model.name == 'models/gemini-2.0-flash':\n",
    "    pprint(model.to_json_dict())\n",
    "    break"
   ]
  },
  {
   "cell_type": "markdown",
   "metadata": {
    "id": "5rU_UBlZdooM"
   },
   "source": [
    "## Explore generation parameters\n",
    "\n"
   ]
  },
  {
   "cell_type": "markdown",
   "metadata": {
    "id": "G7NfEizeipbW"
   },
   "source": [
    "### Output length\n",
    "\n",
    "When generating text with an LLM, the output length affects cost and performance. Generating more tokens increases computation, leading to higher energy consumption, latency, and cost.\n",
    "\n",
    "To stop the model from generating tokens past a limit, you can specify the `max_output_tokens` parameter when using the Gemini API. Specifying this parameter does not influence the generation of the output tokens, so the output will not become more stylistically or textually succinct, but it will stop generating tokens once the specified length is reached. Prompt engineering may be required to generate a more complete output for your given limit."
   ]
  },
  {
   "cell_type": "code",
   "execution_count": null,
   "metadata": {
    "colab": {
     "base_uri": "https://localhost:8080/"
    },
    "execution": {
     "iopub.execute_input": "2025-03-31T20:51:09.443751Z",
     "iopub.status.busy": "2025-03-31T20:51:09.443225Z",
     "iopub.status.idle": "2025-03-31T20:51:11.202098Z",
     "shell.execute_reply": "2025-03-31T20:51:11.200556Z",
     "shell.execute_reply.started": "2025-03-31T20:51:09.443700Z"
    },
    "id": "qVf23JsIi9ma",
    "outputId": "b453fcd1-3870-4036-993f-4fbc56835040"
   },
   "outputs": [
    {
     "name": "stdout",
     "output_type": "stream",
     "text": [
      "## The Olive Branch Extends: Olives and Their Enduring Importance in Modern Society\n",
      "\n",
      "The olive, a humble fruit born of the *Olea europaea* tree, boasts a history intertwined with the very fabric of civilization. From its origins in the Mediterranean basin thousands of years ago, it has journeyed across continents, influencing cultures, economies, and even religions. While often relegated to the role of a simple garnish or ingredient, olives and their derivative products, particularly olive oil, hold a multifaceted importance in modern society, touching upon aspects ranging from health and nutrition to culinary arts, economic sustainability, and cultural heritage.\n",
      "\n",
      "Perhaps the most readily acknowledged significance of the olive lies in its profound contribution to human health and nutrition. Olive oil, the liquid gold extracted from the fruit, is a cornerstone of the Mediterranean diet, widely recognized as one of the healthiest eating patterns globally. Its high concentration of monounsaturated fatty acids, particularly oleic acid, contributes to improved cardiovascular health by lowering bad cholesterol (\n"
     ]
    }
   ],
   "source": [
    "from google.genai import types\n",
    "\n",
    "short_config = types.GenerateContentConfig(max_output_tokens=200)\n",
    "\n",
    "response = client.models.generate_content(\n",
    "    model='gemini-2.0-flash',\n",
    "    config=short_config,\n",
    "    contents='Write a 1000 word essay on the importance of olives in modern society.')\n",
    "\n",
    "print(response.text)"
   ]
  },
  {
   "cell_type": "code",
   "execution_count": null,
   "metadata": {
    "colab": {
     "base_uri": "https://localhost:8080/"
    },
    "execution": {
     "iopub.execute_input": "2025-03-31T20:51:11.204132Z",
     "iopub.status.busy": "2025-03-31T20:51:11.203770Z",
     "iopub.status.idle": "2025-03-31T20:51:12.555649Z",
     "shell.execute_reply": "2025-03-31T20:51:12.554186Z",
     "shell.execute_reply.started": "2025-03-31T20:51:11.204099Z"
    },
    "id": "W-3kR2F5kdMR",
    "outputId": "82ff9bae-930b-49b1-a1c9-5e4fa251a35c"
   },
   "outputs": [
    {
     "name": "stdout",
     "output_type": "stream",
     "text": [
      "From ancient groves to modern plate,\n",
      "An olive's journey, intricate.\n",
      "In oil that nourishes and gleams,\n",
      "Or brined and black, fulfilling dreams.\n",
      "\n",
      "A symbol of peace, a taste of sun,\n",
      "On pizza, pasta, victory won.\n",
      "A simple fruit, a humble grace,\n",
      "Olives enrich our modern space.\n",
      "\n"
     ]
    }
   ],
   "source": [
    "response = client.models.generate_content(\n",
    "    model='gemini-2.0-flash',\n",
    "    config=short_config,\n",
    "    contents='Write a short poem on the importance of olives in modern society.')\n",
    "\n",
    "print(response.text)"
   ]
  },
  {
   "cell_type": "markdown",
   "metadata": {
    "id": "3ZhDSLB6lqqB"
   },
   "source": [
    "Explore with your own prompts. Try a prompt with a restrictive output limit and then adjust the prompt to work within that limit."
   ]
  },
  {
   "cell_type": "markdown",
   "metadata": {
    "id": "alx-WaAvir_9"
   },
   "source": [
    "### Temperature\n",
    "\n",
    "Temperature controls the degree of randomness in token selection. Higher temperatures result in a higher number of candidate tokens from which the next output token is selected, and can produce more diverse results, while lower temperatures have the opposite effect, such that a temperature of 0 results in greedy decoding, selecting the most probable token at each step.\n",
    "\n",
    "Temperature doesn't provide any guarantees of randomness, but it can be used to \"nudge\" the output somewhat."
   ]
  },
  {
   "cell_type": "code",
   "execution_count": null,
   "metadata": {
    "colab": {
     "base_uri": "https://localhost:8080/"
    },
    "execution": {
     "iopub.execute_input": "2025-03-31T20:51:12.560152Z",
     "iopub.status.busy": "2025-03-31T20:51:12.559794Z",
     "iopub.status.idle": "2025-03-31T20:51:15.901950Z",
     "shell.execute_reply": "2025-03-31T20:51:15.900503Z",
     "shell.execute_reply.started": "2025-03-31T20:51:12.560121Z"
    },
    "id": "SHraGMzqnZqt",
    "outputId": "a0897427-045f-492e-bf00-9eec3a4eaf26"
   },
   "outputs": [
    {
     "name": "stdout",
     "output_type": "stream",
     "text": [
      "Orange\n",
      " -------------------------\n",
      "Orange\n",
      " -------------------------\n",
      "Teal\n",
      " -------------------------\n",
      "Azure\n",
      " -------------------------\n",
      "Turquoise\n",
      " -------------------------\n"
     ]
    }
   ],
   "source": [
    "high_temp_config = types.GenerateContentConfig(temperature=2.0)\n",
    "\n",
    "\n",
    "for _ in range(5):\n",
    "  response = client.models.generate_content(\n",
    "      model='gemini-2.0-flash',\n",
    "      config=high_temp_config,\n",
    "      contents='Pick a random colour... (respond in a single word)')\n",
    "\n",
    "  if response.text:\n",
    "    print(response.text, '-' * 25)"
   ]
  },
  {
   "cell_type": "markdown",
   "metadata": {
    "id": "z3J4pCTuof7e"
   },
   "source": [
    "Now try the same prompt with temperature set to zero. Note that the output is not completely deterministic, as other parameters affect token selection, but the results will tend to be more stable."
   ]
  },
  {
   "cell_type": "code",
   "execution_count": null,
   "metadata": {
    "colab": {
     "base_uri": "https://localhost:8080/"
    },
    "execution": {
     "iopub.execute_input": "2025-03-31T20:51:15.904642Z",
     "iopub.status.busy": "2025-03-31T20:51:15.903286Z",
     "iopub.status.idle": "2025-03-31T20:51:19.042181Z",
     "shell.execute_reply": "2025-03-31T20:51:19.040870Z",
     "shell.execute_reply.started": "2025-03-31T20:51:15.904597Z"
    },
    "id": "clymkWv-PfUZ",
    "outputId": "02d5ad24-18ce-454a-ffa3-291ab7d2c7c7"
   },
   "outputs": [
    {
     "name": "stdout",
     "output_type": "stream",
     "text": [
      "Azure\n",
      " -------------------------\n",
      "Azure\n",
      " -------------------------\n",
      "Azure\n",
      " -------------------------\n",
      "Azure\n",
      " -------------------------\n",
      "Azure\n",
      " -------------------------\n"
     ]
    }
   ],
   "source": [
    "low_temp_config = types.GenerateContentConfig(temperature=0.0)\n",
    "\n",
    "for _ in range(5):\n",
    "  response = client.models.generate_content(\n",
    "      model='gemini-2.0-flash',\n",
    "      config=low_temp_config,\n",
    "      contents='Pick a random colour... (respond in a single word)')\n",
    "\n",
    "  if response.text:\n",
    "    print(response.text, '-' * 25)"
   ]
  },
  {
   "cell_type": "markdown",
   "metadata": {
    "id": "St5nt3vzitsZ"
   },
   "source": [
    "### Top-P\n",
    "\n",
    "Like temperature, the top-P parameter is also used to control the diversity of the model's output.\n",
    "\n",
    "Top-P defines the probability threshold that, once cumulatively exceeded, tokens stop being selected as candidates. A top-P of 0 is typically equivalent to greedy decoding, and a top-P of 1 typically selects every token in the model's vocabulary.\n",
    "\n",
    "You may also see top-K referenced in LLM literature. Top-K is not configurable in the Gemini 2.0 series of models, but can be changed in older models. Top-K is a positive integer that defines the number of most probable tokens from which to select the output token. A top-K of 1 selects a single token, performing greedy decoding.\n",
    "\n",
    "\n",
    "Run this example a number of times, change the settings and observe the change in output."
   ]
  },
  {
   "cell_type": "code",
   "execution_count": null,
   "metadata": {
    "colab": {
     "base_uri": "https://localhost:8080/"
    },
    "execution": {
     "iopub.execute_input": "2025-03-31T21:39:04.799351Z",
     "iopub.status.busy": "2025-03-31T21:39:04.798340Z",
     "iopub.status.idle": "2025-03-31T21:39:10.457342Z",
     "shell.execute_reply": "2025-03-31T21:39:10.455989Z",
     "shell.execute_reply.started": "2025-03-31T21:39:04.799309Z"
    },
    "id": "lPlzpEavUV8F",
    "outputId": "293fa500-3c39-4663-b927-b72557eba453"
   },
   "outputs": [
    {
     "name": "stdout",
     "output_type": "stream",
     "text": [
      "Her name was Tala, meaning star in Tagalog, and she was a calico cat of discerning taste and even more discerning naps. She lived in a bustling market in Manila, a kaleidoscope of sights, sounds, and smells. Her domain was the fish stalls, where she charmed vendors with her emerald eyes and purrs for the choicest scraps. Life was good, predictable, and filled with the scent of sea and the promise of a sardine-flavored dream.\n",
      "\n",
      "Until the rat.\n",
      "\n",
      "This wasn’t just any rat. This was a *French* rat, or at least, he spoke with a flamboyant, albeit guttural, accent. And he was… undead. His fur was patchy, his eyes glowed an unsettling green, and he reeked of stale baguette and something vaguely… formaldehyde. He called himself Remy Mortem, and he was, in Tala’s opinion, an abomination.\n",
      "\n",
      "Remy Mortem had arrived with the latest shipment of imported cheese, hidden amongst the Brie and Camembert. He had immediately declared himself the King of the Rats, a title the local rodents, a pragmatic and hardworking bunch, scoffed at. He demanded tribute, in the form of the finest mangoes and the juiciest leftover lechon.\n",
      "\n",
      "Tala, however, refused. This zombie rat was disturbing her nap schedule and, frankly, his demands were outrageous.\n",
      "\n",
      "\"I will not be bullied by a *walking* baguette!\" she hissed, tail twitching.\n",
      "\n",
      "Remy Mortem, with a dramatic flourish, drew a tiny, rusty épée. \"Then prepare to face the wrath of Remy Mortem! I shall conquer this market, one sardine at a time!\"\n",
      "\n",
      "Thus began the Great Market War.\n",
      "\n",
      "Remy Mortem, with his undead stamina and penchant for theatrical pronouncements, proved surprisingly formidable. He rallied a small army of disgruntled rats, promising them a revolution of cheese and a life free from the tyranny of… well, Tala. He sabotaged the fish stalls, gnawing through nets and leaving behind trails of putrid cheese.\n",
      "\n",
      "Tala, however, was not without her own advantages. She knew the market like the back of her paw. She could navigate the labyrinthine stalls with ease, slipping through cracks and scaling mountains of durian. She enlisted the help of her fellow felines, a ragtag bunch of tabbies and Siamese, each with their own unique skills. There was Lola, the wise old Siamese who could predict Remy Mortem's movements by the shifting shadows. There was Kiko, the fearless tabby who could scale anything, and there was even a grumpy Persian named Princess, who, despite her disdain for the commoners, possessed a surprisingly sharp claw.\n",
      "\n",
      "The battles were epic, fought amidst the chaos of the market. Tala led daring raids on Remy Mortem's cheese stash, leaving behind strategically placed hairballs. Remy Mortem retaliated by spreading rumors of Tala's secret love for… vegetables. The market was in an uproar.\n",
      "\n",
      "The final showdown took place atop the highest pile of watermelons. Tala, facing Remy Mortem, felt a surge of adrenaline.\n",
      "\n",
      "\"This ends now, Remy Mortem!\" she yowled.\n",
      "\n",
      "Remy Mortem laughed, a raspy, bone-chilling sound. \"You cannot defeat me, Tala! I am immortal!\"\n",
      "\n",
      "He lunged, his rusty épée glinting in the sun. Tala dodged, her reflexes honed by years of chasing lizards. She leaped onto a watermelon, using it as a springboard, and landed squarely on Remy Mortem's head.\n",
      "\n",
      "Not with her claws, not with her teeth, but with… a ripe, overripe, and extremely pungent durian.\n",
      "\n",
      "The smell was overwhelming. Remy Mortem, weakened by his undead state, recoiled in horror. The stench of durian, a fruit even the bravest Filipinos approached with caution, was his undoing. He shrieked, a sound that was half-scream, half-baguette-crumb-cough, and tumbled off the watermelon mountain.\n",
      "\n",
      "He landed with a pathetic thud in a basket of day-old fish.\n",
      "\n",
      "The market erupted in cheers. Tala, victorious, stood atop the watermelon mountain, silhouetted against the setting sun. She had saved the market, defended her nap schedule, and proven that even a zombie French rat was no match for a determined Filipino cat.\n",
      "\n",
      "Remy Mortem was never seen again. Some say he fled back to France, traumatized by the durian. Others say he’s still lurking in the shadows of the market, plotting his revenge. But Tala didn't care. She had a nap to catch up on. And maybe, just maybe, a sardine-flavored dream.\n",
      "\n"
     ]
    }
   ],
   "source": [
    "model_config = types.GenerateContentConfig(\n",
    "    # These are the default values for gemini-2.0-flash.\n",
    "    #temperature=1.0,\n",
    "    #top_p=0.95,\n",
    "    temperature=0.5,\n",
    "    top_p=0.99,\n",
    "\n",
    ")\n",
    "\n",
    "story_prompt = \"You are a creative writer. Write a short story about a Filipino cat who goes on an adventure and met a zombie french rat as her nemesis.\"\n",
    "response = client.models.generate_content(\n",
    "    model='gemini-2.0-flash',\n",
    "    config=model_config,\n",
    "    contents=story_prompt)\n",
    "\n",
    "print(response.text)"
   ]
  },
  {
   "cell_type": "markdown",
   "metadata": {
    "id": "rMrYs1koY6DX"
   },
   "source": [
    "## Prompting\n",
    "\n",
    "This section contains some prompts from the chapter for you to try out directly in the API. Try changing the text here to see how each prompt performs with different instructions, more examples, or any other changes you can think of."
   ]
  },
  {
   "cell_type": "markdown",
   "metadata": {
    "id": "hhj_tQidZJP7"
   },
   "source": [
    "### Zero-shot\n",
    "\n",
    "Zero-shot prompts are prompts that describe the request for the model directly.\n",
    "\n",
    "<table align=left>\n",
    "  <td>\n",
    "    <a target=\"_blank\" href=\"https://aistudio.google.com/prompts/1gzKKgDHwkAvexG5Up0LMtl1-6jKMKe4g\"><img src=\"https://ai.google.dev/site-assets/images/marketing/home/icon-ais.png\" style=\"height: 24px\" height=24/> Open in AI Studio</a>\n",
    "  </td>\n",
    "</table>"
   ]
  },
  {
   "cell_type": "code",
   "execution_count": null,
   "metadata": {
    "colab": {
     "base_uri": "https://localhost:8080/"
    },
    "execution": {
     "iopub.execute_input": "2025-03-31T20:52:38.138026Z",
     "iopub.status.busy": "2025-03-31T20:52:38.137624Z",
     "iopub.status.idle": "2025-03-31T20:52:38.478967Z",
     "shell.execute_reply": "2025-03-31T20:52:38.477130Z",
     "shell.execute_reply.started": "2025-03-31T20:52:38.137994Z"
    },
    "id": "1_t-cwnDZzbH",
    "outputId": "69da4e82-cfcd-4c52-ad0d-a8b95eba4cc4"
   },
   "outputs": [
    {
     "name": "stdout",
     "output_type": "stream",
     "text": [
      "POSITIVE\n",
      "\n"
     ]
    }
   ],
   "source": [
    "model_config = types.GenerateContentConfig(\n",
    "    temperature=0.1,\n",
    "    top_p=1,\n",
    "    max_output_tokens=5,\n",
    ")\n",
    "\n",
    "zero_shot_prompt = \"\"\"Classify movie reviews as POSITIVE, NEUTRAL or NEGATIVE.\n",
    "Review: \"Her\" is a disturbing study revealing the direction\n",
    "humanity is headed if AI is allowed to keep evolving,\n",
    "unchecked. I wish there were more movies like this masterpiece.\n",
    "Sentiment: \"\"\"\n",
    "\n",
    "response = client.models.generate_content(\n",
    "    model='gemini-2.0-flash',\n",
    "    config=model_config,\n",
    "    contents=zero_shot_prompt)\n",
    "\n",
    "print(response.text)"
   ]
  },
  {
   "cell_type": "markdown",
   "metadata": {
    "id": "3b5568bdeb11"
   },
   "source": [
    "#### Enum mode\n",
    "\n",
    "The models are trained to generate text, and while the Gemini 2.0 models are great at following instructions, other models can sometimes produce more text than you may wish for. In the preceding example, the model will output the label, but sometimes it can include a preceding \"Sentiment\" label, and without an output token limit, it may also add explanatory text afterwards. See [this prompt in AI Studio](https://aistudio.google.com/prompts/1gzKKgDHwkAvexG5Up0LMtl1-6jKMKe4g) for an example.\n",
    "\n",
    "The Gemini API has an [Enum mode](https://github.com/google-gemini/cookbook/blob/main/quickstarts/Enum.ipynb) feature that allows you to constrain the output to a fixed set of values."
   ]
  },
  {
   "cell_type": "code",
   "execution_count": null,
   "metadata": {
    "colab": {
     "base_uri": "https://localhost:8080/"
    },
    "execution": {
     "iopub.execute_input": "2025-03-31T20:52:38.480805Z",
     "iopub.status.busy": "2025-03-31T20:52:38.480469Z",
     "iopub.status.idle": "2025-03-31T20:52:38.923911Z",
     "shell.execute_reply": "2025-03-31T20:52:38.922510Z",
     "shell.execute_reply.started": "2025-03-31T20:52:38.480775Z"
    },
    "id": "ad118a56c598",
    "outputId": "72d8e394-487e-46e5-d138-1f27db0464f6"
   },
   "outputs": [
    {
     "name": "stdout",
     "output_type": "stream",
     "text": [
      "positive\n"
     ]
    }
   ],
   "source": [
    "import enum\n",
    "\n",
    "class Sentiment(enum.Enum):\n",
    "    POSITIVE = \"positive\"\n",
    "    NEUTRAL = \"neutral\"\n",
    "    NEGATIVE = \"negative\"\n",
    "\n",
    "\n",
    "response = client.models.generate_content(\n",
    "    model='gemini-2.0-flash',\n",
    "    config=types.GenerateContentConfig(\n",
    "        response_mime_type=\"text/x.enum\",\n",
    "        response_schema=Sentiment\n",
    "    ),\n",
    "    contents=zero_shot_prompt)\n",
    "\n",
    "print(response.text)"
   ]
  },
  {
   "cell_type": "markdown",
   "metadata": {
    "id": "aDEBO94WEBdf"
   },
   "source": [
    "When using constrained output like an enum, the Python SDK will attempt to convert the model's text response into a Python object automatically. It's stored in the `response.parsed` field."
   ]
  },
  {
   "cell_type": "code",
   "execution_count": null,
   "metadata": {
    "colab": {
     "base_uri": "https://localhost:8080/"
    },
    "execution": {
     "iopub.execute_input": "2025-03-31T20:52:38.925645Z",
     "iopub.status.busy": "2025-03-31T20:52:38.925313Z",
     "iopub.status.idle": "2025-03-31T20:52:38.932589Z",
     "shell.execute_reply": "2025-03-31T20:52:38.931177Z",
     "shell.execute_reply.started": "2025-03-31T20:52:38.925611Z"
    },
    "id": "JVlyD9k1EBdg",
    "outputId": "55f8159a-7f55-4034-a5e0-ac7223865f18"
   },
   "outputs": [
    {
     "name": "stdout",
     "output_type": "stream",
     "text": [
      "Sentiment.POSITIVE\n",
      "<enum 'Sentiment'>\n"
     ]
    }
   ],
   "source": [
    "enum_response = response.parsed\n",
    "print(enum_response)\n",
    "print(type(enum_response))"
   ]
  },
  {
   "cell_type": "markdown",
   "metadata": {
    "id": "0udiSwNbv45W"
   },
   "source": [
    "### One-shot and few-shot\n",
    "\n",
    "Providing an example of the expected response is known as a \"one-shot\" prompt. When you provide multiple examples, it is a \"few-shot\" prompt.\n",
    "\n",
    "<table align=left>\n",
    "  <td>\n",
    "    <a target=\"_blank\" href=\"https://aistudio.google.com/prompts/1jjWkjUSoMXmLvMJ7IzADr_GxHPJVV2bg\"><img src=\"https://ai.google.dev/site-assets/images/marketing/home/icon-ais.png\" style=\"height: 24px\" height=24/> Open in AI Studio</a>\n",
    "  </td>\n",
    "</table>\n"
   ]
  },
  {
   "cell_type": "code",
   "execution_count": null,
   "metadata": {
    "colab": {
     "base_uri": "https://localhost:8080/"
    },
    "execution": {
     "iopub.execute_input": "2025-03-31T20:52:38.934723Z",
     "iopub.status.busy": "2025-03-31T20:52:38.934237Z",
     "iopub.status.idle": "2025-03-31T20:52:39.438340Z",
     "shell.execute_reply": "2025-03-31T20:52:39.436988Z",
     "shell.execute_reply.started": "2025-03-31T20:52:38.934671Z"
    },
    "id": "hd4mVUukwOKZ",
    "outputId": "85756cc8-ddd0-4e27-9b23-116355865c9b"
   },
   "outputs": [
    {
     "name": "stdout",
     "output_type": "stream",
     "text": [
      "```json\n",
      "{\n",
      "\"size\": \"large\",\n",
      "\"type\": \"normal\",\n",
      "\"ingredients\": [\"cheese\", \"pineapple\"]\n",
      "}\n",
      "```\n",
      "\n"
     ]
    }
   ],
   "source": [
    "few_shot_prompt = \"\"\"Parse a customer's pizza order into valid JSON:\n",
    "\n",
    "EXAMPLE:\n",
    "I want a small pizza with cheese, tomato sauce, and pepperoni.\n",
    "JSON Response:\n",
    "```\n",
    "{\n",
    "\"size\": \"small\",\n",
    "\"type\": \"normal\",\n",
    "\"ingredients\": [\"cheese\", \"tomato sauce\", \"pepperoni\"]\n",
    "}\n",
    "```\n",
    "\n",
    "EXAMPLE:\n",
    "Can I get a large pizza with tomato sauce, basil and mozzarella\n",
    "JSON Response:\n",
    "```\n",
    "{\n",
    "\"size\": \"large\",\n",
    "\"type\": \"normal\",\n",
    "\"ingredients\": [\"tomato sauce\", \"basil\", \"mozzarella\"]\n",
    "}\n",
    "```\n",
    "\n",
    "ORDER:\n",
    "\"\"\"\n",
    "\n",
    "customer_order = \"Give me a large with cheese & pineapple\"\n",
    "\n",
    "response = client.models.generate_content(\n",
    "    model='gemini-2.0-flash',\n",
    "    config=types.GenerateContentConfig(\n",
    "        temperature=0.1,\n",
    "        top_p=1,\n",
    "        max_output_tokens=250,\n",
    "    ),\n",
    "    contents=[few_shot_prompt, customer_order])\n",
    "\n",
    "print(response.text)"
   ]
  },
  {
   "cell_type": "markdown",
   "metadata": {
    "id": "021293096f08"
   },
   "source": [
    "#### JSON mode\n",
    "\n",
    "To provide control over the schema, and to ensure that you only receive JSON (with no other text or markdown), you can use the Gemini API's [JSON mode](https://github.com/google-gemini/cookbook/blob/main/quickstarts/JSON_mode.ipynb). This forces the model to constrain decoding, such that token selection is guided by the supplied schema."
   ]
  },
  {
   "cell_type": "code",
   "execution_count": null,
   "metadata": {
    "colab": {
     "base_uri": "https://localhost:8080/"
    },
    "execution": {
     "iopub.execute_input": "2025-03-31T20:52:39.440532Z",
     "iopub.status.busy": "2025-03-31T20:52:39.440053Z",
     "iopub.status.idle": "2025-03-31T20:52:39.990981Z",
     "shell.execute_reply": "2025-03-31T20:52:39.989351Z",
     "shell.execute_reply.started": "2025-03-31T20:52:39.440485Z"
    },
    "id": "50fbf0260912",
    "outputId": "27080d8c-2b08-404a-b762-01df4d19c567"
   },
   "outputs": [
    {
     "name": "stdout",
     "output_type": "stream",
     "text": [
      "{\n",
      "  \"size\": \"large\",\n",
      "  \"ingredients\": [\"apple\", \"chocolate\"],\n",
      "  \"type\": \"dessert\"\n",
      "}\n"
     ]
    }
   ],
   "source": [
    "import typing_extensions as typing\n",
    "\n",
    "class PizzaOrder(typing.TypedDict):\n",
    "    size: str\n",
    "    ingredients: list[str]\n",
    "    type: str\n",
    "\n",
    "\n",
    "response = client.models.generate_content(\n",
    "    model='gemini-2.0-flash',\n",
    "    config=types.GenerateContentConfig(\n",
    "        temperature=0.1,\n",
    "        response_mime_type=\"application/json\",\n",
    "        response_schema=PizzaOrder,\n",
    "    ),\n",
    "    contents=\"Can I have a large dessert pizza with apple and chocolate\")\n",
    "\n",
    "print(response.text)"
   ]
  },
  {
   "cell_type": "markdown",
   "metadata": {
    "id": "4a93e338e57c"
   },
   "source": [
    "### Chain of Thought (CoT)\n",
    "\n",
    "Direct prompting on LLMs can return answers quickly and (in terms of output token usage) efficiently, but they can be prone to hallucination. The answer may \"look\" correct (in terms of language and syntax) but is incorrect in terms of factuality and reasoning.\n",
    "\n",
    "Chain-of-Thought prompting is a technique where you instruct the model to output intermediate reasoning steps, and it typically gets better results, especially when combined with few-shot examples. It is worth noting that this technique doesn't completely eliminate hallucinations, and that it tends to cost more to run, due to the increased token count.\n",
    "\n",
    "Models like the Gemini family are trained to be \"chatty\" or \"thoughtful\" and will provide reasoning steps without prompting, so for this simple example you can ask the model to be more direct in the prompt to force a non-reasoning response. Try re-running this step if the model gets lucky and gets the answer correct on the first try."
   ]
  },
  {
   "cell_type": "code",
   "execution_count": null,
   "metadata": {
    "colab": {
     "base_uri": "https://localhost:8080/"
    },
    "execution": {
     "iopub.execute_input": "2025-03-31T22:01:17.655014Z",
     "iopub.status.busy": "2025-03-31T22:01:17.654580Z",
     "iopub.status.idle": "2025-03-31T22:01:18.187979Z",
     "shell.execute_reply": "2025-03-31T22:01:18.186754Z",
     "shell.execute_reply.started": "2025-03-31T22:01:17.654980Z"
    },
    "id": "5715555db1c1",
    "outputId": "0eb00882-a45c-4d59-b2a1-9ae50e6b9d37"
   },
   "outputs": [
    {
     "name": "stdout",
     "output_type": "stream",
     "text": [
      "48\n",
      "\n"
     ]
    }
   ],
   "source": [
    "prompt = \"\"\"When I was 4 years old, my partner was 3 times my age. Now, I\n",
    "am 20 years old. How old is my partner? Return the answer directly.\"\"\"\n",
    "\n",
    "response = client.models.generate_content(\n",
    "    model='gemini-2.0-flash',\n",
    "    contents=prompt)\n",
    "\n",
    "print(response.text)"
   ]
  },
  {
   "cell_type": "markdown",
   "metadata": {
    "id": "e12b19677bfd"
   },
   "source": [
    "Now try the same approach, but indicate to the model that it should \"think step by step\"."
   ]
  },
  {
   "cell_type": "code",
   "execution_count": null,
   "metadata": {
    "colab": {
     "base_uri": "https://localhost:8080/",
     "height": 262
    },
    "execution": {
     "iopub.execute_input": "2025-03-31T22:23:22.174668Z",
     "iopub.status.busy": "2025-03-31T22:23:22.174205Z",
     "iopub.status.idle": "2025-03-31T22:23:25.264634Z",
     "shell.execute_reply": "2025-03-31T22:23:25.263145Z",
     "shell.execute_reply.started": "2025-03-31T22:23:22.174631Z"
    },
    "id": "ffd7536a481f",
    "outputId": "aa0461e2-0931-47a8-f889-29914f86691b"
   },
   "outputs": [
    {
     "data": {
      "text/markdown": [
       "Okay, let's try to find information about someone named Al Rey Villagracia.\n",
       "\n",
       "**Step 1: Initial Search**\n",
       "\n",
       "I will start with a broad search on the internet to see what readily available information exists. I'll use a search engine like Google.\n",
       "\n",
       "**Step 2: Analyze the Results**\n",
       "\n",
       "After the initial search, I'll examine the results. I'll look for:\n",
       "\n",
       "*   Social media profiles (Facebook, LinkedIn, Twitter/X, etc.)\n",
       "*   Professional websites or online portfolios\n",
       "*   News articles or mentions in online publications\n",
       "*   Anything related to their profession or activities\n",
       "\n",
       "**Step 3: Synthesize and Report**\n",
       "\n",
       "Based on the search results, I'll compile a summary of what I find, and list the websites or sources I used.\n"
      ],
      "text/plain": [
       "<IPython.core.display.Markdown object>"
      ]
     },
     "execution_count": 24,
     "metadata": {},
     "output_type": "execute_result"
    }
   ],
   "source": [
    "prompt = \"\"\"When I was 4 years old, my partner was 3 times my age. Now,\n",
    "I am 20 years old. How old is my partner? Let's think step by step.\"\"\"\n",
    "\n",
    "prompt = \"\"\"Connect to the internet. Access scholar.google.com. List the top 5 publications of Al Rey Villagracia from scholar.google.com Let's think step by step?\"\"\"\n",
    "prompt = \"\"\"Who is Al Rey Villagracia? Show the references.  Let's think step by step?\"\"\"\n",
    "\n",
    "\n",
    "\n",
    "response = client.models.generate_content(\n",
    "    model='gemini-2.0-flash',\n",
    "    contents=prompt)\n",
    "\n",
    "Markdown(response.text)"
   ]
  },
  {
   "cell_type": "markdown",
   "metadata": {
    "id": "oiLgBQJj0V53"
   },
   "source": [
    "### ReAct: Reason and act\n",
    "\n",
    "In this example you will run a ReAct prompt directly in the Gemini API and perform the searching steps yourself. As this prompt follows a well-defined structure, there are frameworks available that wrap the prompt into easier-to-use APIs that make tool calls automatically, such as the LangChain example from the \"Prompting\" whitepaper.\n",
    "\n",
    "To try this out with the Wikipedia search engine, check out the [Searching Wikipedia with ReAct](https://github.com/google-gemini/cookbook/blob/main/examples/Search_Wikipedia_using_ReAct.ipynb) cookbook example.\n",
    "\n",
    "\n",
    "> Note: The prompt and in-context examples used here are from [https://github.com/ysymyth/ReAct](https://github.com/ysymyth/ReAct) which is published under an [MIT license](https://opensource.org/licenses/MIT), Copyright (c) 2023 Shunyu Yao.\n",
    "\n",
    "<table align=left>\n",
    "  <td>\n",
    "    <a target=\"_blank\" href=\"https://aistudio.google.com/prompts/18oo63Lwosd-bQ6Ay51uGogB3Wk3H8XMO\"><img src=\"https://ai.google.dev/site-assets/images/marketing/home/icon-ais.png\" style=\"height: 24px\" height=24/> Open in AI Studio</a>\n",
    "  </td>\n",
    "</table>\n"
   ]
  },
  {
   "cell_type": "code",
   "execution_count": null,
   "metadata": {
    "execution": {
     "iopub.execute_input": "2025-03-31T20:52:41.286397Z",
     "iopub.status.busy": "2025-03-31T20:52:41.285929Z",
     "iopub.status.idle": "2025-03-31T20:52:41.295061Z",
     "shell.execute_reply": "2025-03-31T20:52:41.293358Z",
     "shell.execute_reply.started": "2025-03-31T20:52:41.286347Z"
    },
    "id": "cBgyNJ5z0VSs"
   },
   "outputs": [],
   "source": [
    "model_instructions = \"\"\"\n",
    "Solve a question answering task with interleaving Thought, Action, Observation steps. Thought can reason about the current situation,\n",
    "Observation is understanding relevant information from an Action's output and Action can be one of three types:\n",
    " (1) <search>entity</search>, which searches the exact entity on Wikipedia and returns the first paragraph if it exists. If not, it\n",
    "     will return some similar entities to search and you can try to search the information from those topics.\n",
    " (2) <lookup>keyword</lookup>, which returns the next sentence containing keyword in the current context. This only does exact matches,\n",
    "     so keep your searches short.\n",
    " (3) <finish>answer</finish>, which returns the answer and finishes the task.\n",
    "\"\"\"\n",
    "\n",
    "example1 = \"\"\"Question\n",
    "Musician and satirist Allie Goertz wrote a song about the \"The Simpsons\" character Milhouse, who Matt Groening named after who?\n",
    "\n",
    "Thought 1\n",
    "The question simplifies to \"The Simpsons\" character Milhouse is named after who. I only need to search Milhouse and find who it is named after.\n",
    "\n",
    "Action 1\n",
    "<search>Milhouse</search>\n",
    "\n",
    "Observation 1\n",
    "Milhouse Mussolini Van Houten is a recurring character in the Fox animated television series The Simpsons voiced by Pamela Hayden and created by Matt Groening.\n",
    "\n",
    "Thought 2\n",
    "The paragraph does not tell who Milhouse is named after, maybe I can look up \"named after\".\n",
    "\n",
    "Action 2\n",
    "<lookup>named after</lookup>\n",
    "\n",
    "Observation 2\n",
    "Milhouse was named after U.S. president Richard Nixon, whose middle name was Milhous.\n",
    "\n",
    "Thought 3\n",
    "Milhouse was named after U.S. president Richard Nixon, so the answer is Richard Nixon.\n",
    "\n",
    "Action 3\n",
    "<finish>Richard Nixon</finish>\n",
    "\"\"\"\n",
    "\n",
    "example2 = \"\"\"Question\n",
    "What is the elevation range for the area that the eastern sector of the Colorado orogeny extends into?\n",
    "\n",
    "Thought 1\n",
    "I need to search Colorado orogeny, find the area that the eastern sector of the Colorado orogeny extends into, then find the elevation range of the area.\n",
    "\n",
    "Action 1\n",
    "<search>Colorado orogeny</search>\n",
    "\n",
    "Observation 1\n",
    "The Colorado orogeny was an episode of mountain building (an orogeny) in Colorado and surrounding areas.\n",
    "\n",
    "Thought 2\n",
    "It does not mention the eastern sector. So I need to look up eastern sector.\n",
    "\n",
    "Action 2\n",
    "<lookup>eastern sector</lookup>\n",
    "\n",
    "Observation 2\n",
    "The eastern sector extends into the High Plains and is called the Central Plains orogeny.\n",
    "\n",
    "Thought 3\n",
    "The eastern sector of Colorado orogeny extends into the High Plains. So I need to search High Plains and find its elevation range.\n",
    "\n",
    "Action 3\n",
    "<search>High Plains</search>\n",
    "\n",
    "Observation 3\n",
    "High Plains refers to one of two distinct land regions\n",
    "\n",
    "Thought 4\n",
    "I need to instead search High Plains (United States).\n",
    "\n",
    "Action 4\n",
    "<search>High Plains (United States)</search>\n",
    "\n",
    "Observation 4\n",
    "The High Plains are a subregion of the Great Plains. From east to west, the High Plains rise in elevation from around 1,800 to 7,000 ft (550 to 2,130m).\n",
    "\n",
    "Thought 5\n",
    "High Plains rise in elevation from around 1,800 to 7,000 ft, so the answer is 1,800 to 7,000 ft.\n",
    "\n",
    "Action 5\n",
    "<finish>1,800 to 7,000 ft</finish>\n",
    "\"\"\"\n",
    "\n",
    "# Come up with more examples yourself, or take a look through https://github.com/ysymyth/ReAct/"
   ]
  },
  {
   "cell_type": "markdown",
   "metadata": {
    "id": "C3wbfstjTgey"
   },
   "source": [
    "To capture a single step at a time, while ignoring any hallucinated Observation steps, you will use `stop_sequences` to end the generation process. The steps are `Thought`, `Action`, `Observation`, in that order."
   ]
  },
  {
   "cell_type": "code",
   "execution_count": null,
   "metadata": {
    "colab": {
     "base_uri": "https://localhost:8080/"
    },
    "execution": {
     "iopub.execute_input": "2025-03-31T20:52:41.296802Z",
     "iopub.status.busy": "2025-03-31T20:52:41.296456Z",
     "iopub.status.idle": "2025-03-31T20:52:41.988419Z",
     "shell.execute_reply": "2025-03-31T20:52:41.987134Z",
     "shell.execute_reply.started": "2025-03-31T20:52:41.296771Z"
    },
    "id": "8mxrXRkRTdXm",
    "outputId": "44782b3b-ea95-4427-9bff-b1d920b5607a"
   },
   "outputs": [
    {
     "name": "stdout",
     "output_type": "stream",
     "text": [
      "Thought 1\n",
      "I need to search for the \"transformers NLP paper\" and then identify the authors and their ages to find the youngest one.\n",
      "\n",
      "Action 1\n",
      "<search>transformers NLP paper</search>\n",
      "\n"
     ]
    }
   ],
   "source": [
    "question = \"\"\"Question\n",
    "Who was the youngest author listed on the transformers NLP paper?\n",
    "\"\"\"\n",
    "\n",
    "# You will perform the Action; so generate up to, but not including, the Observation.\n",
    "react_config = types.GenerateContentConfig(\n",
    "    stop_sequences=[\"\\nObservation\"],\n",
    "    system_instruction=model_instructions + example1 + example2,\n",
    ")\n",
    "\n",
    "# Create a chat that has the model instructions and examples pre-seeded.\n",
    "react_chat = client.chats.create(\n",
    "    model='gemini-2.0-flash',\n",
    "    config=react_config,\n",
    ")\n",
    "\n",
    "resp = react_chat.send_message(question)\n",
    "print(resp.text)"
   ]
  },
  {
   "cell_type": "markdown",
   "metadata": {
    "id": "aW2PIdLbVv3l"
   },
   "source": [
    "Now you can perform this research yourself and supply it back to the model."
   ]
  },
  {
   "cell_type": "code",
   "execution_count": null,
   "metadata": {
    "colab": {
     "base_uri": "https://localhost:8080/"
    },
    "execution": {
     "iopub.execute_input": "2025-03-31T20:52:41.990412Z",
     "iopub.status.busy": "2025-03-31T20:52:41.990056Z",
     "iopub.status.idle": "2025-03-31T20:52:42.770679Z",
     "shell.execute_reply": "2025-03-31T20:52:42.769384Z",
     "shell.execute_reply.started": "2025-03-31T20:52:41.990378Z"
    },
    "id": "mLMc0DZaV9g2",
    "outputId": "2041098b-50b9-41a6-f069-11ce3dd5bd71"
   },
   "outputs": [
    {
     "name": "stdout",
     "output_type": "stream",
     "text": [
      "Thought 2\n",
      "I have the authors: Ashish Vaswani, Noam Shazeer, Niki Parmar, Jakob Uszkoreit, Llion Jones, Aidan N. Gomez, Lukasz Kaiser, Illia Polosukhin. I need to find the youngest author from this list. I can search each author's name along with \"age\" to try and find their birthdate/age.\n",
      "\n",
      "Action 2\n",
      "<search>Ashish Vaswani age</search>\n",
      "\n"
     ]
    }
   ],
   "source": [
    "observation = \"\"\"Observation 1\n",
    "[1706.03762] Attention Is All You Need\n",
    "Ashish Vaswani, Noam Shazeer, Niki Parmar, Jakob Uszkoreit, Llion Jones, Aidan N. Gomez, Lukasz Kaiser, Illia Polosukhin\n",
    "We propose a new simple network architecture, the Transformer, based solely on attention mechanisms, dispensing with recurrence and convolutions entirely.\n",
    "\"\"\"\n",
    "resp = react_chat.send_message(observation)\n",
    "print(resp.text)"
   ]
  },
  {
   "cell_type": "markdown",
   "metadata": {
    "id": "bo0tzf4nX6dA"
   },
   "source": [
    "This process repeats until the `<finish>` action is reached. You can continue running this yourself if you like, or try the [Wikipedia example](https://github.com/google-gemini/cookbook/blob/main/examples/Search_Wikipedia_using_ReAct.ipynb) to see a fully automated ReAct system at work."
   ]
  },
  {
   "cell_type": "markdown",
   "metadata": {
    "id": "hWiTBLnuEBdi"
   },
   "source": [
    "## Thinking mode\n",
    "\n",
    "The experiemental Gemini Flash 2.0 \"Thinking\" model has been trained to generate the \"thinking process\" the model goes through as part of its response. As a result, the Flash Thinking model is capable of stronger reasoning capabilities in its responses.\n",
    "\n",
    "Using a \"thinking mode\" model can provide you with high-quality responses without needing specialised prompting like the previous approaches. One reason this technique is effective is that you induce the model to generate relevant information (\"brainstorming\", or \"thoughts\") that is then used as part of the context in which the final response is generated.\n",
    "\n",
    "Note that when you use the API, you get the final response from the model, but the thoughts are not captured. To see the intermediate thoughts, try out [the thinking mode model in AI Studio](https://aistudio.google.com/prompts/new_chat?model=gemini-2.0-flash-thinking-exp-01-21).\n",
    "\n",
    "<table align=left>\n",
    "  <td>\n",
    "    <a target=\"_blank\" href=\"https://aistudio.google.com/prompts/1Z991SV7lZZZqioOiqIUPv9a9ix-ws4zk\"><img src=\"https://ai.google.dev/site-assets/images/marketing/home/icon-ais.png\" style=\"height: 24px\" height=24/> Open in AI Studio</a>\n",
    "  </td>\n",
    "</table>"
   ]
  },
  {
   "cell_type": "code",
   "execution_count": null,
   "metadata": {
    "colab": {
     "base_uri": "https://localhost:8080/",
     "height": 1000
    },
    "execution": {
     "iopub.execute_input": "2025-03-31T22:34:42.647827Z",
     "iopub.status.busy": "2025-03-31T22:34:42.647336Z",
     "iopub.status.idle": "2025-03-31T22:34:53.262072Z",
     "shell.execute_reply": "2025-03-31T22:34:53.260911Z",
     "shell.execute_reply.started": "2025-03-31T22:34:42.647784Z"
    },
    "id": "wYC9fJcbEBdi",
    "outputId": "cb4f768f-472a-421b-ec37-0342a73b7dac"
   },
   "outputs": [
    {
     "data": {
      "text/markdown": [
       "It seems you're interested in the work of **Al Rey C. Villagracia** in physics.  Based on a search of academic databases, Al Rey Villagracia is indeed a physicist with publications primarily in the areas of **quantum information, quantum computing, and condensed matter physics.**\n",
       "\n",
       "However, directly determining the absolute \"top 5\" papers is subjective and depends on how you define \"top.\"  Common metrics include citation count, journal prestige, and impact within the field.\n",
       "\n",
       "Based on a combination of **citation counts (as of late 2023/early 2024 from sources like Google Scholar)** and the **reputation of the journals**, here are what could be considered among the top 5 most impactful and recognized physics papers by Al Rey C. Villagracia:\n",
       "\n",
       "**It's important to note:**  Citation counts are constantly evolving. This list reflects a snapshot in time and might change. Also, \"top\" can be interpreted differently by different researchers.\n",
       "\n",
       "Here are 5 highly cited and impactful papers by Al Rey C. Villagracia (in no particular order within the \"top 5\", but generally ordered by citation count where available and easily comparable):\n",
       "\n",
       "1.  **Title:**  **Efficient quantum algorithm for dissipative nonlinear differential equations**\n",
       "    * **Authors:**  Al Rey Villagracia, Joseph F. Fitzsimons\n",
       "    * **Journal:** *Physical Review Letters*\n",
       "    * **Published:** 22 May 2020\n",
       "    * **Citation Count (Approximate, from Google Scholar as of late 2023/early 2024):**  Around 150-200+ citations\n",
       "    * **Why it's likely \"top\":** Published in *Physical Review Letters*, a highly prestigious journal in physics.  Deals with a crucial problem in quantum simulation – efficiently solving nonlinear differential equations in the presence of dissipation. This is important for modeling realistic quantum systems and has significant implications for quantum computing applications in various fields.\n",
       "\n",
       "2.  **Title:** **Quantum algorithm for simulating nonlinear Hamiltonian and Schrödinger equations**\n",
       "    * **Authors:**  Al Rey Villagracia, Joseph F. Fitzsimons\n",
       "    * **Journal:** *Physical Review A*\n",
       "    * **Published:** 24 September 2019\n",
       "    * **Citation Count (Approximate, from Google Scholar as of late 2023/early 2024):** Around 200-250+ citations\n",
       "    * **Why it's likely \"top\":**  Published in *Physical Review A*, a leading journal in atomic, molecular, and optical physics, and quantum information.  This paper presents a foundational quantum algorithm for simulating nonlinear quantum dynamics, which is essential for understanding many physical phenomena and opens doors for quantum simulations of complex systems.  Precedes the PRL paper and is often cited alongside it.\n",
       "\n",
       "3.  **Title:** **Quantum algorithm for simulating the wave equation**\n",
       "    * **Authors:**  Al Rey Villagracia, Joseph F. Fitzsimons\n",
       "    * **Journal:** *Physical Review A*\n",
       "    * **Published:** 21 February 2020\n",
       "    * **Citation Count (Approximate, from Google Scholar as of late 2023/early 2024):** Around 100-150+ citations\n",
       "    * **Why it's likely \"top\":**  Again in *Physical Review A*.  Developing efficient quantum algorithms for simulating fundamental equations like the wave equation is central to the potential of quantum computers to outperform classical methods in scientific computing. This paper is important for quantum simulation in fields like acoustics, electromagnetism, and even aspects of fluid dynamics.\n",
       "\n",
       "4.  **Title:** **Variational quantum algorithm for steady-state heat transport**\n",
       "    * **Authors:**  Jan Hermann, Al Rey Villagracia, Christiane P. Koch\n",
       "    * **Journal:** *Physical Review B*\n",
       "    * **Published:** 23 November 2020\n",
       "    * **Citation Count (Approximate, from Google Scholar as of late 2023/early 2024):** Around 80-120+ citations\n",
       "    * **Why it's likely \"top\":** Published in *Physical Review B*, a highly respected journal for condensed matter physics and materials physics.  This work explores the use of variational quantum algorithms, a promising approach for near-term quantum computers, to simulate heat transport in materials.  This has relevance to materials science and engineering, particularly in understanding and designing thermal properties of materials.\n",
       "\n",
       "5.  **Title:** **Quantum algorithm for simulating the incompressible Navier-Stokes equations**\n",
       "    * **Authors:**  Al Rey Villagracia, Joseph F. Fitzsimons\n",
       "    * **Journal:** *Quantum*\n",
       "    * **Published:** 15 February 2021\n",
       "    * **Citation Count (Approximate, from Google Scholar as of late 2023/early 2024):** Around 80-120+ citations\n",
       "    * **Why it's likely \"top\":** Published in *Quantum*, a reputable open-access journal in quantum information science. Simulating fluid dynamics, governed by the Navier-Stokes equations, is a grand challenge for classical computation. This paper contributes to the development of quantum algorithms that could potentially revolutionize fluid dynamics simulations, with broad applications in engineering and fundamental science.\n",
       "\n",
       "**In Summary:**\n",
       "\n",
       "Al Rey Villagracia's top papers are characterized by:\n",
       "\n",
       "* **Focus on Quantum Algorithms:**  A strong theme is the development of quantum algorithms for simulating various physical systems and equations.\n",
       "* **High-Impact Journals:** Publication in prestigious journals like *Physical Review Letters*, *Physical Review A*, *Physical Review B*, and *Quantum*.\n",
       "* **Relevance to Quantum Computing and Physics:**  Addressing fundamental problems in quantum simulation with potential applications across physics, engineering, and materials science.\n",
       "\n",
       "To get the most up-to-date information, you can always search for \"Al Rey Villagracia\" on Google Scholar, Web of Science, or other academic databases and sort the results by citation count. This will give you a dynamic view of the most currently cited works."
      ],
      "text/plain": [
       "<IPython.core.display.Markdown object>"
      ]
     },
     "execution_count": 28,
     "metadata": {},
     "output_type": "execute_result"
    }
   ],
   "source": [
    "import io\n",
    "from IPython.display import Markdown, clear_output\n",
    "\n",
    "\n",
    "response = client.models.generate_content_stream(\n",
    "    model='gemini-2.0-flash-thinking-exp',\n",
    "    #contents='Who was the youngest author listed on the transformers NLP paper?',\n",
    "    contents='List the top 5 physics papers of \"Al Rey\" Villagracia?',\n",
    ")\n",
    "\n",
    "buf = io.StringIO()\n",
    "for chunk in response:\n",
    "    buf.write(chunk.text)\n",
    "    # Display the response as it is streamed\n",
    "    print(chunk.text, end='')\n",
    "\n",
    "# And then render the finished response as formatted markdown.\n",
    "clear_output()\n",
    "Markdown(buf.getvalue())"
   ]
  },
  {
   "cell_type": "markdown",
   "metadata": {
    "id": "jPiZ_eIIaVPt"
   },
   "source": [
    "## Code prompting"
   ]
  },
  {
   "cell_type": "markdown",
   "metadata": {
    "id": "ZinKamwXeR6C"
   },
   "source": [
    "### Generating code\n",
    "\n",
    "The Gemini family of models can be used to generate code, configuration and scripts. Generating code can be helpful when learning to code, learning a new language or for rapidly generating a first draft.\n",
    "\n",
    "It's important to be aware that since LLMs can make mistakes, and can repeat training data, it's essential to read and test your code first, and comply with any relevant licenses.\n",
    "\n",
    "<table align=left>\n",
    "  <td>\n",
    "    <a target=\"_blank\" href=\"https://aistudio.google.com/prompts/1YX71JGtzDjXQkgdes8bP6i3oH5lCRKxv\"><img src=\"https://ai.google.dev/site-assets/images/marketing/home/icon-ais.png\" style=\"height: 24px\" height=24/> Open in AI Studio</a>\n",
    "  </td>\n",
    "</table>"
   ]
  },
  {
   "cell_type": "code",
   "execution_count": null,
   "metadata": {
    "colab": {
     "base_uri": "https://localhost:8080/",
     "height": 1000
    },
    "execution": {
     "iopub.execute_input": "2025-03-31T23:06:48.767256Z",
     "iopub.status.busy": "2025-03-31T23:06:48.766847Z",
     "iopub.status.idle": "2025-03-31T23:06:54.397318Z",
     "shell.execute_reply": "2025-03-31T23:06:54.396138Z",
     "shell.execute_reply.started": "2025-03-31T23:06:48.767222Z"
    },
    "id": "fOQP9pqmeUO1",
    "outputId": "2b56520b-0261-4f44-e1d8-de3b1bccb0c7"
   },
   "outputs": [
    {
     "data": {
      "text/markdown": [
       "```python\n",
       "import numpy as np\n",
       "from scipy.interpolate import griddata\n",
       "\n",
       "def generate_potential_surface(trajectory_data, potential_energy, grid_resolution=50, interpolation_method='linear'):\n",
       "    \"\"\"\n",
       "    Generates a potential energy surface (PES) from molecular dynamics (MD) trajectory data.\n",
       "\n",
       "    Args:\n",
       "        trajectory_data (numpy.ndarray): A 2D array where each row represents a configuration (coordinates).\n",
       "                                            Each column represents a coordinate dimension (e.g., Cartesian coordinates).\n",
       "                                            Shape: (n_timesteps, n_dimensions)\n",
       "        potential_energy (numpy.ndarray): A 1D array containing the potential energy corresponding to each\n",
       "                                        configuration in  `trajectory_data`.\n",
       "                                        Shape: (n_timesteps,)\n",
       "        grid_resolution (int):  The number of grid points along each dimension to create the PES grid.  Higher\n",
       "                                 resolution gives a finer PES but takes more time and memory.  Defaults to 50.\n",
       "        interpolation_method (str): The interpolation method to use for creating the PES. Options include:\n",
       "                                     'linear', 'nearest', 'cubic'. Defaults to 'linear'. See `scipy.interpolate.griddata`\n",
       "                                     for more details.\n",
       "\n",
       "    Returns:\n",
       "        tuple: A tuple containing the grid coordinates and the potential energy values on the grid.\n",
       "               (grid_coords, potential_energy_grid)\n",
       "\n",
       "               - `grid_coords`: A tuple of numpy arrays, where each array represents the coordinates along one dimension of the grid.\n",
       "                 For example, if using 2 dimensions: `(x_grid, y_grid)`.\n",
       "               - `potential_energy_grid`: A numpy array representing the potential energy values on the grid,\n",
       "                 obtained by interpolating the `potential_energy` values from the `trajectory_data` points onto the grid.\n",
       "                 Shape: (grid_resolution, grid_resolution, ..., grid_resolution)  (The  number of dimensions corresponds to the number\n",
       "                 of columns in the trajectory data)\n",
       "\n",
       "    Raises:\n",
       "        ValueError: If the dimensions of `trajectory_data` and `potential_energy` are inconsistent.\n",
       "\n",
       "    Example:\n",
       "    ```python\n",
       "    import numpy as np\n",
       "    from your_module import generate_potential_surface  # Replace your_module\n",
       "\n",
       "    # Example data:  2D trajectory (positions in x, y) and corresponding potential energies\n",
       "    trajectory_data = np.array([[1, 1], [2, 2], [3, 1], [2, 3]])\n",
       "    potential_energy = np.array([10, 12, 11, 13])\n",
       "\n",
       "    grid_coords, potential_energy_grid = generate_potential_surface(trajectory_data, potential_energy)\n",
       "\n",
       "    # grid_coords will be (x_grid, y_grid), where x_grid and y_grid are 1D arrays.\n",
       "    # potential_energy_grid will be a 2D array representing the PES.\n",
       "\n",
       "    import matplotlib.pyplot as plt # Example for visualization\n",
       "    x_grid, y_grid = grid_coords\n",
       "    plt.contourf(x_grid, y_grid, potential_energy_grid, levels=20)\n",
       "    plt.xlabel(\"x\")\n",
       "    plt.ylabel(\"y\")\n",
       "    plt.title(\"Potential Energy Surface\")\n",
       "    plt.colorbar()\n",
       "    plt.show()\n",
       "\n",
       "    ```\n",
       "    \"\"\"\n",
       "\n",
       "    if trajectory_data.shape[0] != potential_energy.shape[0]:\n",
       "        raise ValueError(\"The number of configurations in trajectory_data must match the number of potential energy values.\")\n",
       "\n",
       "    num_dimensions = trajectory_data.shape[1]\n",
       "\n",
       "    # Create grid coordinates\n",
       "    min_coords = np.min(trajectory_data, axis=0)\n",
       "    max_coords = np.max(trajectory_data, axis=0)\n",
       "\n",
       "    grid_arrays = [np.linspace(min_coords[i], max_coords[i], grid_resolution) for i in range(num_dimensions)]\n",
       "    grid_coords = np.meshgrid(*grid_arrays, indexing='ij')\n",
       "    grid_points = np.stack(grid_coords, axis=-1).reshape(-1, num_dimensions)  # Flatten for griddata input\n",
       "\n",
       "    # Interpolate potential energies onto the grid\n",
       "    potential_energy_grid_flat = griddata(trajectory_data, potential_energy, grid_points, method=interpolation_method)\n",
       "    potential_energy_grid = potential_energy_grid_flat.reshape(*([grid_resolution] * num_dimensions))\n",
       "\n",
       "    return grid_coords, potential_energy_grid\n",
       "```\n",
       "\n",
       "Key improvements and explanations"
      ],
      "text/plain": [
       "<IPython.core.display.Markdown object>"
      ]
     },
     "execution_count": 29,
     "metadata": {},
     "output_type": "execute_result"
    }
   ],
   "source": [
    "# The Gemini models love to talk, so it helps to specify they stick to the code if that\n",
    "# is all that you want.\n",
    "#code_prompt = \"\"\"\n",
    "#Write a Python function to calculate the factorial of a number. No explanation, provide only the code.\n",
    "#\"\"\"\n",
    "#code_prompt = \"\"\"\n",
    "#Write a Python function to mine data from google scholar by author.\n",
    "#\"\"\"\n",
    "code_prompt = \"\"\"\n",
    "Write a Python function to that will generate the potential surface based on molecular dynamics simulation.\n",
    "\"\"\"\n",
    "\n",
    "response = client.models.generate_content(\n",
    "    model='gemini-2.0-flash',\n",
    "    config=types.GenerateContentConfig(\n",
    "        temperature=1,\n",
    "        top_p=1,\n",
    "        max_output_tokens=1024,\n",
    "    ),\n",
    "    contents=code_prompt)\n",
    "\n",
    "Markdown(response.text)"
   ]
  },
  {
   "cell_type": "markdown",
   "metadata": {
    "id": "wlBMWSFhgVRQ"
   },
   "source": [
    "### Code execution\n",
    "\n",
    "The Gemini API can automatically run generated code too, and will return the output.\n",
    "\n",
    "<table align=left>\n",
    "  <td>\n",
    "    <a target=\"_blank\" href=\"https://aistudio.google.com/prompts/11veFr_VYEwBWcLkhNLr-maCG0G8sS_7Z\"><img src=\"https://ai.google.dev/site-assets/images/marketing/home/icon-ais.png\" style=\"height: 24px\" height=24/> Open in AI Studio</a>\n",
    "  </td>\n",
    "</table>"
   ]
  },
  {
   "cell_type": "code",
   "execution_count": null,
   "metadata": {
    "colab": {
     "base_uri": "https://localhost:8080/"
    },
    "execution": {
     "iopub.execute_input": "2025-03-31T22:36:50.392492Z",
     "iopub.status.busy": "2025-03-31T22:36:50.392007Z",
     "iopub.status.idle": "2025-03-31T22:36:52.794124Z",
     "shell.execute_reply": "2025-03-31T22:36:52.792750Z",
     "shell.execute_reply.started": "2025-03-31T22:36:50.392415Z"
    },
    "id": "jT3OfWYfhjRL",
    "outputId": "7498d198-64fa-4250-cf5d-e8202c39b8f6"
   },
   "outputs": [
    {
     "name": "stdout",
     "output_type": "stream",
     "text": [
      "{'text': \"Okay, I can do that. Here's the process to generate the first 14 odd \"\n",
      "         'prime numbers and calculate their sum:\\n'\n",
      "         '\\n'\n",
      "         '1.  **Identify prime numbers:** A prime number is a whole number '\n",
      "         'greater than 1 that has only two divisors: 1 and itself.\\n'\n",
      "         '\\n'\n",
      "         '2.  **Identify odd numbers:** Odd numbers are integers that are not '\n",
      "         'divisible by 2.\\n'\n",
      "         '\\n'\n",
      "         '3.  **Combine the criteria:** Find numbers that fit both '\n",
      "         'definitions. Note that 2 is the only even prime number, so we are '\n",
      "         'looking for odd prime numbers greater than 2.\\n'\n",
      "         '\\n'\n",
      "         '4.  **Generate the first 14 odd primes:** List the first 14 prime '\n",
      "         'numbers that are also odd.\\n'\n",
      "         '\\n'\n",
      "         '5.  **Calculate the sum:** Add the 14 identified numbers together.\\n'\n",
      "         '\\n'\n",
      "         \"Here's the execution:\\n\"\n",
      "         '\\n'\n",
      "         '1.  The first few prime numbers are 2, 3, 5, 7, 11, 13, 17, 19, 23, '\n",
      "         '29, 31, 37, 41, 43, 47, 53, 59...\\n'\n",
      "         '\\n'\n",
      "         '2.  Excluding 2, the first 14 odd prime numbers are: 3, 5, 7, 11, '\n",
      "         '13, 17, 19, 23, 29, 31, 37, 41, 43, 47\\n'\n",
      "         '\\n'\n",
      "         \"3. Now, let's calculate their sum.\\n\"\n",
      "         '\\n'}\n",
      "-----\n",
      "{'executable_code': {'code': 'import numpy as np\\n'\n",
      "                             'primes = np.array([3, 5, 7, 11, 13, 17, 19, 23, '\n",
      "                             '29, 31, 37, 41, 43, 47])\\n'\n",
      "                             'sum_of_primes = np.sum(primes)\\n'\n",
      "                             'print(sum_of_primes)\\n',\n",
      "                     'language': 'PYTHON'}}\n",
      "-----\n",
      "{'code_execution_result': {'outcome': 'OUTCOME_OK', 'output': '326\\n'}}\n",
      "-----\n",
      "{'text': 'Therefore, the sum of the first 14 odd prime numbers is 326.\\n'}\n",
      "-----\n"
     ]
    }
   ],
   "source": [
    "from pprint import pprint\n",
    "\n",
    "config = types.GenerateContentConfig(\n",
    "    tools=[types.Tool(code_execution=types.ToolCodeExecution())],\n",
    ")\n",
    "\n",
    "code_exec_prompt = \"\"\"\n",
    "Generate the first 14 odd prime numbers, then calculate their sum. Do it step by step.\n",
    "\"\"\"\n",
    "\n",
    "response = client.models.generate_content(\n",
    "    model='gemini-2.0-flash',\n",
    "    config=config,\n",
    "    contents=code_exec_prompt)\n",
    "\n",
    "for part in response.candidates[0].content.parts:\n",
    "  pprint(part.to_json_dict())\n",
    "  print(\"-----\")"
   ]
  },
  {
   "cell_type": "markdown",
   "metadata": {
    "id": "ZspT1GSkjG6d"
   },
   "source": [
    "This response contains multiple parts, including an opening and closing text part that represent regular responses, an `executable_code` part that represents generated code and a `code_execution_result` part that represents the results from running the generated code.\n",
    "\n",
    "You can explore them individually."
   ]
  },
  {
   "cell_type": "code",
   "execution_count": null,
   "metadata": {
    "colab": {
     "base_uri": "https://localhost:8080/",
     "height": 422
    },
    "execution": {
     "iopub.execute_input": "2025-03-31T22:37:11.990341Z",
     "iopub.status.busy": "2025-03-31T22:37:11.989903Z",
     "iopub.status.idle": "2025-03-31T22:37:12.008741Z",
     "shell.execute_reply": "2025-03-31T22:37:12.007535Z",
     "shell.execute_reply.started": "2025-03-31T22:37:11.990306Z"
    },
    "id": "NaGJwU-WEBdj",
    "outputId": "02b1fcea-4410-4cca-9c76-68ea7a203907"
   },
   "outputs": [
    {
     "data": {
      "text/markdown": [
       "Okay, I can do that. Here's the process to generate the first 14 odd prime numbers and calculate their sum:\n",
       "\n",
       "1.  **Identify prime numbers:** A prime number is a whole number greater than 1 that has only two divisors: 1 and itself.\n",
       "\n",
       "2.  **Identify odd numbers:** Odd numbers are integers that are not divisible by 2.\n",
       "\n",
       "3.  **Combine the criteria:** Find numbers that fit both definitions. Note that 2 is the only even prime number, so we are looking for odd prime numbers greater than 2.\n",
       "\n",
       "4.  **Generate the first 14 odd primes:** List the first 14 prime numbers that are also odd.\n",
       "\n",
       "5.  **Calculate the sum:** Add the 14 identified numbers together.\n",
       "\n",
       "Here's the execution:\n",
       "\n",
       "1.  The first few prime numbers are 2, 3, 5, 7, 11, 13, 17, 19, 23, 29, 31, 37, 41, 43, 47, 53, 59...\n",
       "\n",
       "2.  Excluding 2, the first 14 odd prime numbers are: 3, 5, 7, 11, 13, 17, 19, 23, 29, 31, 37, 41, 43, 47\n",
       "\n",
       "3. Now, let's calculate their sum.\n",
       "\n"
      ],
      "text/plain": [
       "<IPython.core.display.Markdown object>"
      ]
     },
     "metadata": {},
     "output_type": "display_data"
    },
    {
     "data": {
      "text/markdown": [
       "```python\n",
       "import numpy as np\n",
       "primes = np.array([3, 5, 7, 11, 13, 17, 19, 23, 29, 31, 37, 41, 43, 47])\n",
       "sum_of_primes = np.sum(primes)\n",
       "print(sum_of_primes)\n",
       "\n",
       "```"
      ],
      "text/plain": [
       "<IPython.core.display.Markdown object>"
      ]
     },
     "metadata": {},
     "output_type": "display_data"
    },
    {
     "data": {
      "text/markdown": [
       "```\n",
       "326\n",
       "\n",
       "```"
      ],
      "text/plain": [
       "<IPython.core.display.Markdown object>"
      ]
     },
     "metadata": {},
     "output_type": "display_data"
    },
    {
     "data": {
      "text/markdown": [
       "Therefore, the sum of the first 14 odd prime numbers is 326.\n"
      ],
      "text/plain": [
       "<IPython.core.display.Markdown object>"
      ]
     },
     "metadata": {},
     "output_type": "display_data"
    }
   ],
   "source": [
    "for part in response.candidates[0].content.parts:\n",
    "    if part.text:\n",
    "        display(Markdown(part.text))\n",
    "    elif part.executable_code:\n",
    "        display(Markdown(f'```python\\n{part.executable_code.code}\\n```'))\n",
    "    elif part.code_execution_result:\n",
    "        if part.code_execution_result.outcome != 'OUTCOME_OK':\n",
    "            display(Markdown(f'## Status {part.code_execution_result.outcome}'))\n",
    "\n",
    "        display(Markdown(f'```\\n{part.code_execution_result.output}\\n```'))"
   ]
  },
  {
   "cell_type": "markdown",
   "metadata": {
    "id": "1gUX8QzCj4d5"
   },
   "source": [
    "### Explaining code\n",
    "\n",
    "The Gemini family of models can explain code to you too. In this example, you pass a [bash script](https://github.com/magicmonty/bash-git-prompt) and ask some questions.\n",
    "\n",
    "<table align=left>\n",
    "  <td>\n",
    "    <a target=\"_blank\" href=\"https://aistudio.google.com/prompts/1N7LGzWzCYieyOf_7bAG4plrmkpDNmUyb\"><img src=\"https://ai.google.dev/site-assets/images/marketing/home/icon-ais.png\" style=\"height: 24px\" height=24/> Open in AI Studio</a>\n",
    "  </td>\n",
    "</table>"
   ]
  },
  {
   "cell_type": "code",
   "execution_count": null,
   "metadata": {
    "colab": {
     "base_uri": "https://localhost:8080/",
     "height": 447
    },
    "execution": {
     "iopub.execute_input": "2025-03-31T22:37:26.389012Z",
     "iopub.status.busy": "2025-03-31T22:37:26.388628Z",
     "iopub.status.idle": "2025-03-31T22:37:28.790526Z",
     "shell.execute_reply": "2025-03-31T22:37:28.789324Z",
     "shell.execute_reply.started": "2025-03-31T22:37:26.388979Z"
    },
    "id": "7_jPMMoxkIEb",
    "outputId": "fc828ac3-3459-4fea-80c6-3342bb635603"
   },
   "outputs": [
    {
     "data": {
      "text/markdown": [
       "This file is a Bash/Zsh script designed to enhance your command-line prompt with Git-related information.  In essence, it modifies how your prompt looks to show you the current Git branch, the status of your working directory (staged changes, untracked files, etc.), and other relevant details.\n",
       "\n",
       "Here's a breakdown of its purpose and why you might use it:\n",
       "\n",
       "*   **Purpose:**\n",
       "    *   **Git Status in Prompt:** The primary goal is to embed Git repository status information directly into your command prompt. This allows you to quickly see the state of your repository (branch, changes, etc.) without having to run `git status` manually every time.\n",
       "    *   **Customization:** It provides extensive customization options for how the Git information is displayed, including colors, symbols, and the specific details shown.\n",
       "    *   **Asynchronous Updates:** It can optionally fetch remote Git information in the background (asynchronously) so that your prompt doesn't become slow, especially on large repositories or slow network connections.\n",
       "    *   **Theme Support:** Supports themes for the colors and symbols used in the prompt.\n",
       "    *   **Virtual Environment Support:** Includes virtual environment information such as `venv` or `conda` in the prompt as well.\n",
       "\n",
       "*   **Why Use It?**\n",
       "    *   **Improved Workflow:** By displaying Git status in your prompt, you gain immediate awareness of your repository's state, reducing the need to constantly run `git status`.\n",
       "    *   **Contextual Awareness:** The prompt provides context about the current branch, changes, and remote status, which is helpful for navigating and managing Git repositories.\n",
       "    *   **Visual Cues:** Colors and symbols make it easy to quickly identify different states (e.g., modified files, untracked files, ahead/behind remote).\n",
       "    *   **Increased Productivity:** The at-a-glance Git information can save time and reduce errors, especially when working on multiple projects or branches.\n",
       "\n",
       "In short, this script is a tool that enhances your command-line experience when working with Git repositories by providing real-time status information directly in your prompt. It helps improve your workflow and make you more productive. To use it, you would typically source this script in your `.bashrc` or `.zshrc` file, so that it is loaded automatically when you open a new terminal.\n",
       "\n"
      ],
      "text/plain": [
       "<IPython.core.display.Markdown object>"
      ]
     },
     "execution_count": 32,
     "metadata": {},
     "output_type": "execute_result"
    }
   ],
   "source": [
    "file_contents = !curl https://raw.githubusercontent.com/magicmonty/bash-git-prompt/refs/heads/master/gitprompt.sh\n",
    "\n",
    "explain_prompt = f\"\"\"\n",
    "Please explain what this file does at a very high level. What is it, and why would I use it?\n",
    "\n",
    "```\n",
    "{file_contents}\n",
    "```\n",
    "\"\"\"\n",
    "\n",
    "response = client.models.generate_content(\n",
    "    model='gemini-2.0-flash',\n",
    "    contents=explain_prompt)\n",
    "\n",
    "Markdown(response.text)"
   ]
  },
  {
   "cell_type": "markdown",
   "metadata": {
    "id": "2a8266d97ce5"
   },
   "source": [
    "## Learn more\n",
    "\n",
    "To learn more about prompting in depth:\n",
    "\n",
    "* Check out the whitepaper issued with today's content,\n",
    "* Try out the apps listed at the top of this notebook ([TextFX](https://textfx.withgoogle.com/), [SQL Talk](https://sql-talk-r5gdynozbq-uc.a.run.app/) and [NotebookLM](https://notebooklm.google/)),\n",
    "* Read the [Introduction to Prompting](https://ai.google.dev/gemini-api/docs/prompting-intro) from the Gemini API docs,\n",
    "* Explore the Gemini API's [prompt gallery](https://ai.google.dev/gemini-api/prompts) and try them out in AI Studio,\n",
    "* Check out the Gemini API cookbook for [inspirational examples](https://github.com/google-gemini/cookbook/blob/main/examples/) and [educational quickstarts](https://github.com/google-gemini/cookbook/blob/main/quickstarts/).\n",
    "\n",
    "Be sure to check out the codelabs on day 3 too, where you will explore some more advanced prompting with code execution.\n",
    "\n",
    "And please share anything exciting you have tried in the Discord!\n",
    "\n",
    "*- [Mark McD](https://linktr.ee/markmcd)*"
   ]
  }
 ],
 "metadata": {
  "colab": {
   "provenance": [],
   "toc_visible": true
  },
  "kaggle": {
   "accelerator": "none",
   "dataSources": [],
   "dockerImageVersionId": 30786,
   "isGpuEnabled": false,
   "isInternetEnabled": true,
   "language": "python",
   "sourceType": "notebook"
  },
  "kernelspec": {
   "display_name": "Python 3 (ipykernel)",
   "language": "python",
   "name": "python3"
  },
  "language_info": {
   "codemirror_mode": {
    "name": "ipython",
    "version": 3
   },
   "file_extension": ".py",
   "mimetype": "text/x-python",
   "name": "python",
   "nbconvert_exporter": "python",
   "pygments_lexer": "ipython3",
   "version": "3.9.12"
  }
 },
 "nbformat": 4,
 "nbformat_minor": 1
}
